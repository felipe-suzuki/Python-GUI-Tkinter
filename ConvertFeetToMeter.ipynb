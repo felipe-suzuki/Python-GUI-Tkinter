{
 "cells": [
  {
   "cell_type": "code",
   "execution_count": 1,
   "id": "243f6316",
   "metadata": {},
   "outputs": [],
   "source": [
    "# Convert feet to meter program"
   ]
  },
  {
   "cell_type": "code",
   "execution_count": 2,
   "id": "ac980afe",
   "metadata": {},
   "outputs": [],
   "source": [
    "# Importing modules from tkinter\n",
    "from tkinter import *\n",
    "from tkinter import ttk\n",
    "\n",
    "def calculate(*args):\n",
    "    try:\n",
    "        value = float(feet.get())\n",
    "        meters.set((0.3048 * value * 10000.0 + 0.5)/10000.0)\n",
    "    except ValueError:\n",
    "        pass\n",
    "\n",
    "# Set up the main window, giving it the title \"Feet to Meters\"\n",
    "root = Tk()\n",
    "root.title(\"Feet to Meters\")\n",
    "\n",
    "# Create a frame widget, which will hold all the content of our user interface, \n",
    "# and place that in our main window\n",
    "mainframe = ttk.Frame(root, padding=\"3 3 12 12\")\n",
    "mainframe.grid(column=0, row=0, sticky=(N, W, E, S))\n",
    "\n",
    "# \"columnconfigure\"/\"rowconfigure\" bits just tell Tk that if the main\n",
    "# window is resized, the frame should expand to take up the extra space\n",
    "mainframe.columnconfigure(0, weight=1)\n",
    "mainframe.rowconfigure(0, weight=1)\n",
    "\n",
    "# Declaring variables\n",
    "feet = StringVar()\n",
    "meters = StringVar()\n",
    "\n",
    "# Create the entry where we type the number of feet in\n",
    "feet_entry = ttk.Entry(mainframe, width=7, textvariable=feet)\n",
    "feet_entry.grid(column=2, row=1, sticky=(W, E))\n",
    "\n",
    "# Create a label where we put the resulting number of meters\n",
    "ttk.Label(mainframe, textvariable=meters).grid(column=2, row=2, sticky=(W, E))\n",
    "\n",
    "# Create  the calculate button that we press to perform the calculation\n",
    "ttk.Button(mainframe, text=\"Calculate\", command=calculate).grid(column=3, row=3,\n",
    "sticky=W)\n",
    "\n",
    "# Create label and place it onscreen in the appropriate cell in the grid.\n",
    "ttk.Label(mainframe, text=\"feet\").grid(column=3, row=1, sticky=W)\n",
    "ttk.Label(mainframe, text=\"is equivalent to\").grid(column=1, row=2, sticky=E)\n",
    "ttk.Label(mainframe, text=\"meters\").grid(column=3, row=2, sticky=W)\n",
    "\n",
    "# Walks through all of the widgets that are children of our content frame, \n",
    "# and adds a padding around each one\n",
    "for child in mainframe.winfo_children(): child.grid_configure(padx=5, pady=5)\n",
    "\n",
    "# Put the focus on our entry widget    \n",
    "feet_entry.focus()\n",
    "\n",
    "# User presses the Return key (Enter on Windows) anywhere within\n",
    "# the root window, that it should call our calculate routine, \n",
    "# the same as if the user pressed the Calculate button.\n",
    "root.bind('<Return>', calculate)\n",
    "\n",
    "# Enter the event loop\n",
    "root.mainloop()"
   ]
  }
 ],
 "metadata": {
  "kernelspec": {
   "display_name": "Python 3 (ipykernel)",
   "language": "python",
   "name": "python3"
  },
  "language_info": {
   "codemirror_mode": {
    "name": "ipython",
    "version": 3
   },
   "file_extension": ".py",
   "mimetype": "text/x-python",
   "name": "python",
   "nbconvert_exporter": "python",
   "pygments_lexer": "ipython3",
   "version": "3.9.7"
  }
 },
 "nbformat": 4,
 "nbformat_minor": 5
}
